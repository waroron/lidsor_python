{
 "cells": [
  {
   "cell_type": "code",
   "execution_count": 1,
   "metadata": {},
   "outputs": [],
   "source": [
    "import numpy as np\n",
    "import time\n",
    "from lidsor_filter import filtering_lidsor_cpp\n",
    "from glob import glob\n",
    "import open3d as o3d\n",
    "import pypatchworkpp"
   ]
  },
  {
   "cell_type": "code",
   "execution_count": 2,
   "metadata": {},
   "outputs": [],
   "source": [
    "bin_path_list = glob(f\"mini/*.bin\")"
   ]
  },
  {
   "cell_type": "code",
   "execution_count": 3,
   "metadata": {},
   "outputs": [],
   "source": [
    "bin_path = bin_path_list[0]\n",
    "\n",
    "\n",
    "points = np.fromfile(bin_path, dtype=np.float32).reshape(-1, 4)"
   ]
  },
  {
   "cell_type": "code",
   "execution_count": 24,
   "metadata": {},
   "outputs": [
    {
     "name": "stdout",
     "output_type": "stream",
     "text": [
      "\u001b[1;33m[Open3D WARNING] GLFW Error: Cocoa: Failed to find service port for display\u001b[0;m\n"
     ]
    }
   ],
   "source": [
    "ground_idx = PatchworkPLUSPLUS.getGroundIndices()\n",
    "ground_pcd = o3d.geometry.PointCloud()\n",
    "\n",
    "ground_intensity = points[ground_idx][:, 3]\n",
    "\n",
    "# Create colors array, default to white\n",
    "colors = np.ones((ground_intensity.shape[0], 3))\n",
    "\n",
    "# Set points with intensity below threshold to black\n",
    "threshold = 0.01 / 110.0  # Set your desired threshold here\n",
    "colors[ground_intensity <= threshold] = [0, 0, 0]  # Black color for low intensity\n",
    "\n",
    "ground_pcd.points = o3d.utility.Vector3dVector(points[ground_idx][:, :3])\n",
    "ground_pcd.colors = o3d.utility.Vector3dVector(colors)  # Assign colors to the point cloud\n",
    "o3d.visualization.draw_geometries([ground_pcd])\n"
   ]
  },
  {
   "cell_type": "code",
   "execution_count": 4,
   "metadata": {},
   "outputs": [
    {
     "name": "stdout",
     "output_type": "stream",
     "text": [
      "PatchWorkpp::PatchWorkpp() - INITIALIZATION COMPLETE\n"
     ]
    }
   ],
   "source": [
    "# 地面点群の推定\n",
    "params = pypatchworkpp.Parameters()\n",
    "\n",
    "PatchworkPLUSPLUS = pypatchworkpp.patchworkpp(params)\n",
    "\n",
    "PatchworkPLUSPLUS.estimateGround(points)\n",
    "ground_idx      = PatchworkPLUSPLUS.getGroundIndices()\n",
    "nonground_idx   = PatchworkPLUSPLUS.getNongroundIndices()\n",
    "ground_points = points[ground_idx]\n",
    "nonground_points = points[nonground_idx]\n",
    "\n",
    "\n",
    "# 雑音除去\n",
    "filtered_points = np.array(filtering_lidsor_cpp(nonground_points))"
   ]
  },
  {
   "cell_type": "code",
   "execution_count": 7,
   "metadata": {},
   "outputs": [
    {
     "name": "stdout",
     "output_type": "stream",
     "text": [
      "\u001b[1;33m[Open3D WARNING] GLFW Error: Cocoa: Failed to find service port for display\u001b[0;m\n"
     ]
    }
   ],
   "source": [
    "filtered_pcd = o3d.geometry.PointCloud()\n",
    "filtered_pcd.points = o3d.utility.Vector3dVector(filtered_points[:, :3])\n",
    "\n",
    "ground_pcd = o3d.geometry.PointCloud()\n",
    "ground_pcd.points = o3d.utility.Vector3dVector(ground_points[:, :3])\n",
    "o3d.visualization.draw_geometries([filtered_pcd, ground_pcd])\n"
   ]
  }
 ],
 "metadata": {
  "kernelspec": {
   "display_name": "Python 3",
   "language": "python",
   "name": "python3"
  },
  "language_info": {
   "codemirror_mode": {
    "name": "ipython",
    "version": 3
   },
   "file_extension": ".py",
   "mimetype": "text/x-python",
   "name": "python",
   "nbconvert_exporter": "python",
   "pygments_lexer": "ipython3",
   "version": "3.8.19"
  }
 },
 "nbformat": 4,
 "nbformat_minor": 2
}
