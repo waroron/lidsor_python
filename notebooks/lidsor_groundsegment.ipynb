{
 "cells": [
  {
   "cell_type": "code",
   "execution_count": 5,
   "metadata": {},
   "outputs": [],
   "source": [
    "import numpy as np\n",
    "import time\n",
    "from lidsor_filter import filtering_lidsor_cpp\n",
    "from glob import glob\n",
    "import open3d as o3d\n",
    "import pypatchworkpp\n",
    "from tqdm.notebook import tqdm\n"
   ]
  },
  {
   "cell_type": "code",
   "execution_count": 2,
   "metadata": {},
   "outputs": [],
   "source": [
    "def segment_and_filter_points(points, scaling_factor=110.0, std_multiplier=2.0, range_multiplier=1.0, intensity_threshold=0, distance_threshold=1000):\n",
    "    \"\"\"\n",
    "    Segment ground points and filter non-ground points using LIDSOR.\n",
    "\n",
    "    Args:\n",
    "        points (np.ndarray): Input point cloud data of shape (N, 4) containing x, y, z, intensity\n",
    "        scaling_factor (float): Scaling factor for intensity values\n",
    "\n",
    "    Returns:\n",
    "        np.ndarray: Merged point cloud containing filtered ground and non-ground points\n",
    "    \"\"\"\n",
    "    # Ground point estimation\n",
    "    params = pypatchworkpp.Parameters()\n",
    "    patchwork = pypatchworkpp.patchworkpp(params)\n",
    "    patchwork.estimateGround(points)\n",
    "\n",
    "    # Get ground and non-ground indices\n",
    "    ground_idx = patchwork.getGroundIndices()\n",
    "    nonground_idx = patchwork.getNongroundIndices()\n",
    "\n",
    "    # Split points\n",
    "    ground_points = points[ground_idx]\n",
    "    nonground_points = points[nonground_idx]\n",
    "\n",
    "    # Filter non-ground points\n",
    "    filtered_points, kept_indices, removed_indices = filtering_lidsor_cpp(\n",
    "        nonground_points, \n",
    "        scaling_factor=scaling_factor,\n",
    "        std_multiplier=std_multiplier,\n",
    "        range_multiplier=range_multiplier,\n",
    "        intensity_threshold=intensity_threshold,\n",
    "        distance_threshold=distance_threshold\n",
    "    )\n",
    "    filtered_points = np.array(filtered_points, dtype=np.float64)\n",
    "\n",
    "    # Merge ground and filtered non-ground points\n",
    "    merged_points = np.concatenate([ground_points, filtered_points], axis=0)\n",
    "\n",
    "    return merged_points, kept_indices, removed_indices"
   ]
  },
  {
   "cell_type": "code",
   "execution_count": 3,
   "metadata": {},
   "outputs": [
    {
     "name": "stdout",
     "output_type": "stream",
     "text": [
      "[0.         0.         0.00909091 ... 0.13636364 0.25454545 0.24545455]\n"
     ]
    }
   ],
   "source": [
    "bin_path_list = glob(f\"/mnt/d/dataset/mini/*.bin\")\n",
    "bin_path = bin_path_list[0]\n",
    "\n",
    "\n",
    "points = np.fromfile(bin_path, dtype=np.float32).reshape(-1, 4)\n",
    "print(points[:, 3])"
   ]
  },
  {
   "cell_type": "code",
   "execution_count": 18,
   "metadata": {},
   "outputs": [
    {
     "name": "stderr",
     "output_type": "stream",
     "text": [
      "MESA: error: ZINK: failed to choose pdev\n",
      "glx: failed to create drisw screen\n"
     ]
    }
   ],
   "source": [
    "lidsor_result = filtering_lidsor_cpp(points, scaling_factor=110.0)\n",
    "lidsored_point = np.array(lidsor_result[0], dtype=np.float64)\n",
    "visualize_point_cloud(points, lidsor_result[2])"
   ]
  },
  {
   "cell_type": "code",
   "execution_count": 8,
   "metadata": {},
   "outputs": [
    {
     "data": {
      "application/vnd.jupyter.widget-view+json": {
       "model_id": "91240600798f4b06bdeaf41197d8af9b",
       "version_major": 2,
       "version_minor": 0
      },
      "text/plain": [
       "  0%|          | 0/25 [00:00<?, ?it/s]"
      ]
     },
     "metadata": {},
     "output_type": "display_data"
    },
    {
     "name": "stdout",
     "output_type": "stream",
     "text": [
      "PatchWorkpp::PatchWorkpp() - INITIALIZATION COMPLETE\n",
      "PatchWorkpp::PatchWorkpp() - INITIALIZATION COMPLETE\n",
      "PatchWorkpp::PatchWorkpp() - INITIALIZATION COMPLETE\n",
      "PatchWorkpp::PatchWorkpp() - INITIALIZATION COMPLETE\n",
      "PatchWorkpp::PatchWorkpp() - INITIALIZATION COMPLETE\n",
      "PatchWorkpp::PatchWorkpp() - INITIALIZATION COMPLETE\n",
      "PatchWorkpp::PatchWorkpp() - INITIALIZATION COMPLETE\n",
      "PatchWorkpp::PatchWorkpp() - INITIALIZATION COMPLETE\n",
      "PatchWorkpp::PatchWorkpp() - INITIALIZATION COMPLETE\n",
      "PatchWorkpp::PatchWorkpp() - INITIALIZATION COMPLETE\n",
      "PatchWorkpp::PatchWorkpp() - INITIALIZATION COMPLETE\n",
      "PatchWorkpp::PatchWorkpp() - INITIALIZATION COMPLETE\n",
      "PatchWorkpp::PatchWorkpp() - INITIALIZATION COMPLETE\n",
      "PatchWorkpp::PatchWorkpp() - INITIALIZATION COMPLETE\n",
      "PatchWorkpp::PatchWorkpp() - INITIALIZATION COMPLETE\n",
      "PatchWorkpp::PatchWorkpp() - INITIALIZATION COMPLETE\n",
      "PatchWorkpp::PatchWorkpp() - INITIALIZATION COMPLETE\n",
      "PatchWorkpp::PatchWorkpp() - INITIALIZATION COMPLETE\n",
      "PatchWorkpp::PatchWorkpp() - INITIALIZATION COMPLETE\n",
      "PatchWorkpp::PatchWorkpp() - INITIALIZATION COMPLETE\n",
      "PatchWorkpp::PatchWorkpp() - INITIALIZATION COMPLETE\n",
      "PatchWorkpp::PatchWorkpp() - INITIALIZATION COMPLETE\n",
      "PatchWorkpp::PatchWorkpp() - INITIALIZATION COMPLETE\n",
      "PatchWorkpp::PatchWorkpp() - INITIALIZATION COMPLETE\n",
      "PatchWorkpp::PatchWorkpp() - INITIALIZATION COMPLETE\n"
     ]
    }
   ],
   "source": [
    "# 反射率によるフィルタリング，lidsor，lidsor+patchworkによる比較\n",
    "intensity_threshold = 0.01\n",
    "distance_threshold = 100\n",
    "std_multiplier = 1.0\n",
    "range_multiplier = 0.01\n",
    "\n",
    "def intensity_filter(points, intensity_threshold):\n",
    "    kept_indices = np.where(points[:, 3] <= intensity_threshold)[0]\n",
    "    removed_indices = np.where(points[:, 3] > intensity_threshold)[0]\n",
    "    return points[kept_indices], kept_indices, removed_indices\n",
    "\n",
    "org_points = []\n",
    "intensity_filtered_points = []\n",
    "lidsor_points = []\n",
    "lidsor_patchwork_points = []\n",
    "\n",
    "for n in tqdm(range(len(bin_path_list))):\n",
    "    points = np.fromfile(bin_path_list[n], dtype=np.float32).reshape(-1, 4)\n",
    "    org_points.append(points)\n",
    "    intensity_filtered_points.append(intensity_filter(points, intensity_threshold))\n",
    "\n",
    "    lidsor_result = filtering_lidsor_cpp(points, \n",
    "                                         scaling_factor=110,\n",
    "                                         std_multiplier=std_multiplier,\n",
    "                                         range_multiplier=range_multiplier,\n",
    "                                         intensity_threshold=intensity_threshold,\n",
    "                                         distance_threshold=distance_threshold,\n",
    "                                         )\n",
    "    lidsor_points.append(lidsor_result)\n",
    "\n",
    "    segment_result = segment_and_filter_points(points, \n",
    "                                               scaling_factor=110,\n",
    "                                               std_multiplier=std_multiplier,\n",
    "                                               range_multiplier=range_multiplier,\n",
    "                                               intensity_threshold=intensity_threshold,\n",
    "                                               distance_threshold=distance_threshold,\n",
    "                                               )\n",
    "    lidsor_patchwork_points.append(segment_result)"
   ]
  },
  {
   "cell_type": "code",
   "execution_count": 9,
   "metadata": {},
   "outputs": [
    {
     "name": "stderr",
     "output_type": "stream",
     "text": [
      "MESA: error: ZINK: failed to choose pdev\n",
      "glx: failed to create drisw screen\n"
     ]
    },
    {
     "name": "stdout",
     "output_type": "stream",
     "text": [
      "intensity filtering: 245334 -> 23164\n"
     ]
    },
    {
     "name": "stderr",
     "output_type": "stream",
     "text": [
      "MESA: error: ZINK: failed to choose pdev\n",
      "glx: failed to create drisw screen\n",
      "MESA: error: ZINK: failed to choose pdev\n"
     ]
    },
    {
     "name": "stdout",
     "output_type": "stream",
     "text": [
      "lidsor filtering: 245334 -> 88960\n",
      "patchwork+lidsor filtering: 245334 -> 119739\n"
     ]
    },
    {
     "name": "stderr",
     "output_type": "stream",
     "text": [
      "glx: failed to create drisw screen\n"
     ]
    }
   ],
   "source": [
    "# それぞれの可視化\n",
    "def visualize_point_cloud(points, removed_indices=None, window_name=\"Point Cloud\"):\n",
    "    pcd = o3d.geometry.PointCloud()\n",
    "    pcd.points = o3d.utility.Vector3dVector(points[:, :3])\n",
    "    \n",
    "    # 高さ（z座標）に基づいて色を計算\n",
    "    z_values = points[:, 2]\n",
    "    z_min, z_max = np.min(z_values), np.max(z_values)\n",
    "    normalized_z = (z_values - z_min) / (z_max - z_min)\n",
    "    \n",
    "    # カラーマップの作成（例：青から赤へのグラデーション）\n",
    "    colors = np.zeros((points.shape[0], 3))\n",
    "    colors[:, 2] = 1 - normalized_z  # 青成分\n",
    "    colors[:, 0] = normalized_z      # 赤成分\n",
    "    \n",
    "    # removed_indicesの点を黒色に設定\n",
    "    if removed_indices is not None:\n",
    "        colors[removed_indices] = [0, 0, 0]\n",
    "    \n",
    "    pcd.colors = o3d.utility.Vector3dVector(colors)\n",
    "    \n",
    "    # Create a separate window and visualizer\n",
    "    vis = o3d.visualization.Visualizer()\n",
    "    vis.create_window(window_name=window_name)\n",
    "    vis.add_geometry(pcd)\n",
    "    vis.run()\n",
    "    vis.destroy_window()\n",
    "\n",
    "# Visualize intensity filtered points\n",
    "n = 0  # Index of the frame to visualize\n",
    "visualize_point_cloud(\n",
    "    org_points[n], \n",
    "    intensity_filtered_points[n][2],\n",
    "    window_name=\"Intensity Filtered\"\n",
    ")\n",
    "\n",
    "print(f\"intensity filtering: {len(org_points[n])} -> {len(intensity_filtered_points[n][0])}\")\n",
    "\n",
    "visualize_point_cloud(\n",
    "    org_points[n], \n",
    "    lidsor_points[n][2],\n",
    "    window_name=\"LIDSOR\"\n",
    ")\n",
    "\n",
    "print(f\"lidsor filtering: {len(org_points[n])} -> {len(lidsor_points[n][0])}\")\n",
    "\n",
    "visualize_point_cloud(\n",
    "    org_points[n], \n",
    "    lidsor_patchwork_points[n][2],\n",
    "    window_name=\"Patchwork+LIDSOR\"\n",
    ")\n",
    "\n",
    "print(f\"patchwork+lidsor filtering: {len(org_points[n])} -> {len(lidsor_patchwork_points[n][0])}\")\n",
    "\n",
    "# # Visualize Patchwork+LIDSOR results\n",
    "# points = np.fromfile(bin_path_list[n], dtype=np.float32).reshape(-1, 4)\n",
    "# merged_points, kept_indices, removed_indices = lidsor_patchwork_points[n]\n",
    "# visualize_point_cloud(\n",
    "#     merged_points,\n",
    "#     removed_indices,\n",
    "#     window_name=\"Patchwork + LIDSOR\"\n",
    "# )"
   ]
  },
  {
   "cell_type": "code",
   "execution_count": 8,
   "metadata": {},
   "outputs": [
    {
     "name": "stdout",
     "output_type": "stream",
     "text": [
      "\u001b[1;33m[Open3D WARNING] GLFW Error: Cocoa: Failed to find service port for display\u001b[0;m\n"
     ]
    }
   ],
   "source": [
    "\n",
    "ground_idx = PatchworkPLUSPLUS.getGroundIndices()\n",
    "ground_pcd = o3d.geometry.PointCloud()\n",
    "\n",
    "ground_intensity = points[ground_idx][:, 3]\n",
    "\n",
    "# Create colors array, default to white\n",
    "colors = np.ones((ground_intensity.shape[0], 3))\n",
    "\n",
    "# Set points with intensity below threshold to black\n",
    "threshold = 0.01 / 110.0  # Set your desired threshold here\n",
    "colors[ground_intensity <= threshold] = [0, 0, 0]  # Black color for low intensity\n",
    "\n",
    "ground_pcd.points = o3d.utility.Vector3dVector(points[ground_idx][:, :3])\n",
    "ground_pcd.colors = o3d.utility.Vector3dVector(colors)  # Assign colors to the point cloud\n",
    "# o3d.visualization.draw_geometries([ground_pcd])\n"
   ]
  }
 ],
 "metadata": {
  "kernelspec": {
   "display_name": "terrain2",
   "language": "python",
   "name": "python3"
  },
  "language_info": {
   "codemirror_mode": {
    "name": "ipython",
    "version": 3
   },
   "file_extension": ".py",
   "mimetype": "text/x-python",
   "name": "python",
   "nbconvert_exporter": "python",
   "pygments_lexer": "ipython3",
   "version": "3.10.15"
  }
 },
 "nbformat": 4,
 "nbformat_minor": 2
}
