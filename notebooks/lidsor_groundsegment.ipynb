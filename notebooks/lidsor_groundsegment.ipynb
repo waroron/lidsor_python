{
 "cells": [
  {
   "cell_type": "code",
   "execution_count": 1,
   "metadata": {},
   "outputs": [],
   "source": [
    "import numpy as np\n",
    "import time\n",
    "from lidsor_filter import filtering_lidsor_cpp\n",
    "from glob import glob\n",
    "import open3d as o3d\n",
    "import pypatchworkpp"
   ]
  },
  {
   "cell_type": "code",
   "execution_count": 2,
   "metadata": {},
   "outputs": [
    {
     "name": "stdout",
     "output_type": "stream",
     "text": [
      "[0.         0.         0.         ... 0.13636364 0.2090909  0.27272728]\n"
     ]
    }
   ],
   "source": [
    "bin_path_list = glob(f\"/Users/yukiya/ws/mini/*.bin\")\n",
    "bin_path = bin_path_list[0]\n",
    "\n",
    "\n",
    "points = np.fromfile(bin_path, dtype=np.float32).reshape(-1, 4)\n",
    "print(points[:, 3])"
   ]
  },
  {
   "cell_type": "code",
   "execution_count": 14,
   "metadata": {},
   "outputs": [
    {
     "name": "stdout",
     "output_type": "stream",
     "text": [
      "PatchWorkpp::PatchWorkpp() - INITIALIZATION COMPLETE\n"
     ]
    }
   ],
   "source": [
    "# 地面点群の推定\n",
    "params = pypatchworkpp.Parameters()\n",
    "PatchworkPLUSPLUS = pypatchworkpp.patchworkpp(params)\n",
    "PatchworkPLUSPLUS.estimateGround(points)\n",
    "ground_idx      = PatchworkPLUSPLUS.getGroundIndices()\n",
    "nonground_idx   = PatchworkPLUSPLUS.getNongroundIndices()\n",
    "ground_points = points[ground_idx]\n",
    "nonground_points = points[nonground_idx]\n",
    "\n",
    "\n",
    "# 雑音除去\n",
    "filtered_points = np.array(filtering_lidsor_cpp(nonground_points, scaling_factor=110.0), dtype=np.float64)\n",
    "\n",
    "# ground_pointsを統合\n",
    "merged_points = np.concatenate([ground_points, filtered_points], axis=0)"
   ]
  },
  {
   "cell_type": "code",
   "execution_count": 15,
   "metadata": {},
   "outputs": [
    {
     "name": "stdout",
     "output_type": "stream",
     "text": [
      "\u001b[1;33m[Open3D WARNING] GLFW Error: Cocoa: Failed to find service port for display\u001b[0;m\n"
     ]
    }
   ],
   "source": [
    "merged_pcd = o3d.geometry.PointCloud()\n",
    "merged_pcd.points = o3d.utility.Vector3dVector(merged_points[:, :3])\n",
    "# merged_pcd.colors = o3d.utility.Vector3dVector(merged_points[:, 3])\n",
    "o3d.visualization.draw_geometries([merged_pcd])\n"
   ]
  },
  {
   "cell_type": "code",
   "execution_count": 8,
   "metadata": {},
   "outputs": [
    {
     "name": "stdout",
     "output_type": "stream",
     "text": [
      "\u001b[1;33m[Open3D WARNING] GLFW Error: Cocoa: Failed to find service port for display\u001b[0;m\n"
     ]
    }
   ],
   "source": [
    "\n",
    "ground_idx = PatchworkPLUSPLUS.getGroundIndices()\n",
    "ground_pcd = o3d.geometry.PointCloud()\n",
    "\n",
    "ground_intensity = points[ground_idx][:, 3]\n",
    "\n",
    "# Create colors array, default to white\n",
    "colors = np.ones((ground_intensity.shape[0], 3))\n",
    "\n",
    "# Set points with intensity below threshold to black\n",
    "threshold = 0.01 / 110.0  # Set your desired threshold here\n",
    "colors[ground_intensity <= threshold] = [0, 0, 0]  # Black color for low intensity\n",
    "\n",
    "ground_pcd.points = o3d.utility.Vector3dVector(points[ground_idx][:, :3])\n",
    "ground_pcd.colors = o3d.utility.Vector3dVector(colors)  # Assign colors to the point cloud\n",
    "# o3d.visualization.draw_geometries([ground_pcd])\n"
   ]
  }
 ],
 "metadata": {
  "kernelspec": {
   "display_name": "terrain2",
   "language": "python",
   "name": "python3"
  },
  "language_info": {
   "codemirror_mode": {
    "name": "ipython",
    "version": 3
   },
   "file_extension": ".py",
   "mimetype": "text/x-python",
   "name": "python",
   "nbconvert_exporter": "python",
   "pygments_lexer": "ipython3",
   "version": "3.11.9"
  }
 },
 "nbformat": 4,
 "nbformat_minor": 2
}
